{
 "metadata": {
  "name": "CVRP"
 },
 "nbformat": 3,
 "nbformat_minor": 0,
 "worksheets": [
  {
   "cells": [
    {
     "cell_type": "code",
     "collapsed": false,
     "input": [
      "import re\n",
      "import networkx as nx\n",
      "import math\n",
      "\n",
      "path = '/Users/pasukhov/Downloads/A-VRP/A-n33-k5.vrp'\n",
      "\n",
      "f = open( path, 'r+')\n",
      "\n",
      "\n",
      "name =   f.readline().split()[2]\n",
      "\n",
      "f.readline()\n",
      "f.readline()\n",
      "\n",
      "\n",
      "\n",
      "n = int( f.readline().split()[2])\n",
      "print \"name : {0}\".format(name )\n",
      "print  \"n : {0}\".format(n)\n",
      "\n",
      "f.readline()\n",
      "capacity = int( f.readline().split()[2])\n",
      "\n",
      "print  \"capacity : {0}\".format(capacity)\n",
      "\n",
      "f.readline()\n",
      "\n",
      "G=nx.Graph()\n",
      "# position is stored as node attribute data for random_geometric_graph\n",
      "\n",
      "pos = {}\n",
      "\n",
      "#reading graph\n",
      "for i in range(0,n):\n",
      "    a = f.readline().split()\n",
      "    G.add_node( int(a[0]) , pos = [int(a[1]),int(a[2])])\n",
      "\n",
      "\n",
      "    \n",
      "for i in range(1,n):\n",
      "    for j in range(i+1,n+1):\n",
      "        G.add_path([i,j], weight=sqrt( (G.node[i]['pos'][0] - G.node[j]['pos'][0])**2  +  (G.node[i]['pos'][1] - G.node[j]['pos'][1])**2  ))\n",
      "\n",
      "        \n",
      "        \n",
      "        \n",
      "        "
     ],
     "language": "python",
     "metadata": {},
     "outputs": [
      {
       "output_type": "stream",
       "stream": "stdout",
       "text": [
        "name : A-n33-k5\n",
        "n : 33\n",
        "capacity : 100\n"
       ]
      }
     ],
     "prompt_number": 31
    },
    {
     "cell_type": "code",
     "collapsed": false,
     "input": [
      "\n",
      "import matplotlib.pyplot as plt\n",
      "#plotting graph\n",
      "plt.figure(figsize=(10,10))\n",
      "p = {}\n",
      "max_x = max(G.node[i]['pos'][0] for i in range(1,n+1))\n",
      "max_y = max(G.node[i]['pos'][1] for i in range(1,n+1))\n",
      "min_x = min(G.node[i]['pos'][0] for i in range(1,n+1))\n",
      "min_y = min(G.node[i]['pos'][1] for i in range(1,n+1))\n",
      "#print min_x,min_y,max_x,max_y\n",
      "\n",
      "# distance from zero\n",
      "#for i in range(1,n+1):\n",
      "#    p[i] = sqrt( G.node[i]['pos'][0]**2 + G.node[i]['pos'][1]**2 )\n",
      "\n",
      "# distance from first vertex\n",
      "p = nx.single_source_dijkstra_path_length(G, source=1)\n",
      "\n",
      "pos = nx.get_node_attributes(G, 'pos')\n",
      "nx.draw_networkx_nodes(G,pos,nodelist=p.keys(),\n",
      "                       node_size=80,\n",
      "                       node_color=p.values(),\n",
      "                       cmap=plt.cm.Reds_r)\n",
      "\n",
      "#nx.draw_networkx_labels(G,pos,p)\n",
      "\n",
      "plt.xlim(-min_x - 5,max_x + 5)\n",
      "plt.ylim(-min_y - 5,max_y + 5)\n",
      "plt.axis('off')\n",
      "plt.show()\n",
      "\n",
      "#for i in range(1,n+1):\n",
      " #   print p[i],G.node[i]['pos'][0],G.node[i]['pos'][1]\n",
      "    "
     ],
     "language": "python",
     "metadata": {},
     "outputs": [
      {
       "output_type": "stream",
       "stream": "stdout",
       "text": [
        "7 3 82 98\n"
       ]
      },
      {
       "output_type": "display_data",
       "png": "[encoded data removed]"
      }
     ],
     "prompt_number": 39
    },
    {
     "cell_type": "code",
     "collapsed": false,
     "input": [],
     "language": "python",
     "metadata": {},
     "outputs": []
    }
   ],
   "metadata": {}
  }
 ]
}